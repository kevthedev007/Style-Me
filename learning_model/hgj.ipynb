{
 "cells": [
  {
   "cell_type": "code",
   "execution_count": 6,
   "metadata": {},
   "outputs": [
    {
     "name": "stdout",
     "output_type": "stream",
     "text": [
      "[2, 10, 4, 8, 5]\n",
      "[ 1 10  3  7  4]\n"
     ]
    }
   ],
   "source": [
    "import numpy as np\n",
    "lis=[1,2,3,4,5,6,7,8,7,9,10]\n",
    "a=np.random.randint(len(lis), size=5)\n",
    "new_is=[lis[i] for i in a]\n",
    "print(new_is)\n",
    "print(a)"
   ]
  }
 ],
 "metadata": {
  "kernelspec": {
   "display_name": "styleme",
   "language": "python",
   "name": "python3"
  },
  "language_info": {
   "codemirror_mode": {
    "name": "ipython",
    "version": 3
   },
   "file_extension": ".py",
   "mimetype": "text/x-python",
   "name": "python",
   "nbconvert_exporter": "python",
   "pygments_lexer": "ipython3",
   "version": "3.10.9"
  },
  "orig_nbformat": 4
 },
 "nbformat": 4,
 "nbformat_minor": 2
}
